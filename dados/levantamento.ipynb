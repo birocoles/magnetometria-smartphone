{
 "cells": [
  {
   "cell_type": "code",
   "execution_count": 1,
   "metadata": {},
   "outputs": [],
   "source": [
    "import numpy as np\n",
    "import matplotlib.pyplot as plt"
   ]
  },
  {
   "cell_type": "code",
   "execution_count": null,
   "metadata": {},
   "outputs": [],
   "source": [
    "levantamento = np.genfromtxt(\n",
    "    'calibracao.txt', \n",
    "     dtype=([('Cf', '<i8'), ('Lado', 'S1'), ('X', '<f8'), ('Y', '<f8')]))"
   ]
  },
  {
   "cell_type": "code",
   "execution_count": null,
   "metadata": {},
   "outputs": [],
   "source": [
    "lados = [b'E', b'T', b'D', b'B']\n",
    "shift_x = [-1.3, 0, 1.3, 0]\n",
    "shift_y = [0, 1.3, 0, -1.3]"
   ]
  },
  {
   "cell_type": "code",
   "execution_count": null,
   "metadata": {},
   "outputs": [],
   "source": [
    "X = []\n",
    "Y = []\n",
    "for lado, sx, sy in zip(lados, shift_x, shift_y):\n",
    "    mask = (calibracao['Lado'] == lado)\n",
    "    X.append(calibracao['X'][mask] + sx)\n",
    "    Y.append(calibracao['Y'][mask] + sy)\n",
    "X = np.hstack(X)\n",
    "Y = np.hstack(Y)"
   ]
  },
  {
   "cell_type": "code",
   "execution_count": null,
   "metadata": {},
   "outputs": [],
   "source": [
    "Bx = []\n",
    "By = []\n",
    "Bz = []\n",
    "for i in calibracao['Cf']:\n",
    "    filename = 'Cf{}.csv'.format(i)\n",
    "    B = np.genfromtxt(filename, delimiter=',', usecols=(1,2,3), skip_header=1)\n",
    "    B = np.mean(B, axis=0)\n",
    "    Bx.append(B[0])\n",
    "    By.append(B[1])\n",
    "    Bz.append(B[2])\n",
    "Bx = np.array(Bx)\n",
    "By = np.array(By)\n",
    "Bz = np.array(Bz)"
   ]
  },
  {
   "cell_type": "code",
   "execution_count": null,
   "metadata": {},
   "outputs": [],
   "source": [
    "Bx0 = []\n",
    "By0 = []\n",
    "Bz0 = []\n",
    "for i in range(4):\n",
    "    filename = 'Sf{}.csv'.format(i)\n",
    "    B = np.genfromtxt(filename, delimiter=',', usecols=(1,2,3), skip_header=1)\n",
    "    B = np.mean(B, axis=0)\n",
    "    Bx0.append(B[0])\n",
    "    By0.append(B[1])\n",
    "    Bz0.append(B[2])\n",
    "Bx0 = np.median(np.array(Bx0))\n",
    "By0 = np.median(np.array(By0))\n",
    "Bz0 = np.median(np.array(Bz0))"
   ]
  },
  {
   "cell_type": "code",
   "execution_count": null,
   "metadata": {},
   "outputs": [],
   "source": [
    "Bx = Bx - Bx0\n",
    "By = By - By0\n",
    "Bz = Bz - Bz0"
   ]
  },
  {
   "cell_type": "code",
   "execution_count": null,
   "metadata": {},
   "outputs": [],
   "source": [
    "Btotal = np.sqrt(Bx**2 + By**2 + Bz**2)"
   ]
  },
  {
   "cell_type": "code",
   "execution_count": null,
   "metadata": {},
   "outputs": [],
   "source": [
    "dados = [Bx, By, Bz, Btotal]\n",
    "title = ['Bx', 'By', 'Bz', 'Btotal']\n",
    "ranges = [np.max(np.abs(Bx)),\n",
    "          np.max(np.abs(By)),\n",
    "          np.max(np.abs(Bz)),\n",
    "          np.max(np.abs(Btotal))]\n",
    "\n",
    "plt.figure(figsize=(8,8))\n",
    "\n",
    "for index in range(1,5):\n",
    "\n",
    "    plt.subplot(2,2,index)\n",
    "    plt.title(title[index-1], fontsize=16)\n",
    "    plt.scatter(X, Y, c=dados[index-1], \n",
    "                cmap='seismic', vmin=-ranges[index-1], vmax=ranges[index-1])\n",
    "    plt.colorbar()\n",
    "    plt.xlabel('X (cm)', fontsize = 14)\n",
    "    plt.ylabel('Y (cm)', fontsize = 14)\n",
    "plt.tight_layout()\n",
    "plt.show()"
   ]
  },
  {
   "cell_type": "code",
   "execution_count": null,
   "metadata": {},
   "outputs": [],
   "source": []
  }
 ],
 "metadata": {
  "kernelspec": {
   "display_name": "Python 3",
   "language": "python",
   "name": "python3"
  },
  "language_info": {
   "codemirror_mode": {
    "name": "ipython",
    "version": 3
   },
   "file_extension": ".py",
   "mimetype": "text/x-python",
   "name": "python",
   "nbconvert_exporter": "python",
   "pygments_lexer": "ipython3",
   "version": "3.7.7"
  }
 },
 "nbformat": 4,
 "nbformat_minor": 4
}
